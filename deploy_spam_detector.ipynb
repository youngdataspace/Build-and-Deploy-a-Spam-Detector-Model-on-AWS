{
 "cells": [
  {
   "cell_type": "markdown",
   "id": "ebbba6e0",
   "metadata": {},
   "source": [
    "#### Check the TensorFlow version and save it\n",
    "SageMaker's TensorFlow version is 1.15.5. This is the reason why we created a virtual environment to specifically use Python 3.7 + TensorFlow 1.15.5 to build the model."
   ]
  },
  {
   "cell_type": "code",
   "execution_count": 1,
   "id": "abd37dc5",
   "metadata": {},
   "outputs": [
    {
     "name": "stdout",
     "output_type": "stream",
     "text": [
      "WARNING:tensorflow:From /home/ec2-user/anaconda3/envs/tensorflow_p36/cpu/lib/python3.6/site-packages/tensorflow_core/__init__.py:1473: The name tf.estimator.inputs is deprecated. Please use tf.compat.v1.estimator.inputs instead.\n",
      "\n",
      "1.15.5\n"
     ]
    }
   ],
   "source": [
    "# Import library\n",
    "import tensorflow as tf\n",
    "\n",
    "# Print the version and save it\n",
    "print(tf.__version__)\n",
    "tf_framework_version = tf.__version__"
   ]
  },
  {
   "cell_type": "markdown",
   "id": "efdbdb37",
   "metadata": {},
   "source": [
    "#### Import libraries and retrieve the IAM\n",
    "Retrieve the AWS Identity and Access Management (IAM). Some of the codes are tweaks from the code in <a href =\"https://aws.amazon.com/blogs/machine-learning/deploy-trained-keras-or-tensorflow-models-using-amazon-sagemaker/\">this post</a>."
   ]
  },
  {
   "cell_type": "code",
   "execution_count": 2,
   "id": "eac1a1da",
   "metadata": {},
   "outputs": [],
   "source": [
    "# import libraries\n",
    "from sagemaker import get_execution_role\n",
    "from sagemaker import Session\n",
    "\n",
    "# Retrieve the IAM\n",
    "role = get_execution_role()\n",
    "sess = Session()\n",
    "bucket = sess.default_bucket()"
   ]
  },
  {
   "cell_type": "markdown",
   "id": "0ba7abd0",
   "metadata": {},
   "source": [
    "#### Download the model\n",
    "The following code downloads the zip file we uploaded in the S3 bucket."
   ]
  },
  {
   "cell_type": "code",
   "execution_count": 3,
   "id": "4e96df09",
   "metadata": {},
   "outputs": [
    {
     "name": "stdout",
     "output_type": "stream",
     "text": [
      "download: s3://spam-detector-s3/ann_model.zip to ./ann_model.zip  \n",
      "Archive:  ann_model.zip\n",
      "  inflating: keras_model/ann_model.json  \n",
      "  inflating: keras_model/ann_model_weights.h5  \n"
     ]
    }
   ],
   "source": [
    "# Create a directory called keras_model\n",
    "!mkdir keras_model\n",
    "\n",
    "# Download the zip file we uploaded\n",
    "!aws s3 cp s3://spam-detector-s3/ann_model.zip ann_model.zip\n",
    "\n",
    "# Unzip the file in the keras_model folder\n",
    "!unzip ann_model.zip -d keras_model"
   ]
  },
  {
   "cell_type": "markdown",
   "id": "a5479cc6",
   "metadata": {},
   "source": [
    "#### Load the model\n",
    "The following <a href= \"https://stackoverflow.com/questions/53183865/unknown-initializer-glorotuniform-when-loading-keras-model\">post</a> was very helpful."
   ]
  },
  {
   "cell_type": "code",
   "execution_count": 4,
   "id": "da5d99a6",
   "metadata": {},
   "outputs": [
    {
     "name": "stdout",
     "output_type": "stream",
     "text": [
      "WARNING:tensorflow:From /home/ec2-user/anaconda3/envs/tensorflow_p36/lib/python3.6/site-packages/keras/backend/tensorflow_backend.py:517: The name tf.placeholder is deprecated. Please use tf.compat.v1.placeholder instead.\n",
      "\n",
      "WARNING:tensorflow:From /home/ec2-user/anaconda3/envs/tensorflow_p36/lib/python3.6/site-packages/keras/backend/tensorflow_backend.py:4185: The name tf.truncated_normal is deprecated. Please use tf.random.truncated_normal instead.\n",
      "\n",
      "WARNING:tensorflow:From /home/ec2-user/anaconda3/envs/tensorflow_p36/lib/python3.6/site-packages/keras/backend/tensorflow_backend.py:174: The name tf.get_default_session is deprecated. Please use tf.compat.v1.get_default_session instead.\n",
      "\n",
      "WARNING:tensorflow:From /home/ec2-user/anaconda3/envs/tensorflow_p36/lib/python3.6/site-packages/keras/backend/tensorflow_backend.py:184: The name tf.ConfigProto is deprecated. Please use tf.compat.v1.ConfigProto instead.\n",
      "\n",
      "WARNING:tensorflow:From /home/ec2-user/anaconda3/envs/tensorflow_p36/lib/python3.6/site-packages/keras/backend/tensorflow_backend.py:186: The name tf.Session is deprecated. Please use tf.compat.v1.Session instead.\n",
      "\n",
      "WARNING:tensorflow:From /home/ec2-user/anaconda3/envs/tensorflow_p36/lib/python3.6/site-packages/keras/backend/tensorflow_backend.py:190: The name tf.global_variables is deprecated. Please use tf.compat.v1.global_variables instead.\n",
      "\n",
      "WARNING:tensorflow:From /home/ec2-user/anaconda3/envs/tensorflow_p36/lib/python3.6/site-packages/keras/backend/tensorflow_backend.py:199: The name tf.is_variable_initialized is deprecated. Please use tf.compat.v1.is_variable_initialized instead.\n",
      "\n",
      "WARNING:tensorflow:From /home/ec2-user/anaconda3/envs/tensorflow_p36/lib/python3.6/site-packages/keras/backend/tensorflow_backend.py:206: The name tf.variables_initializer is deprecated. Please use tf.compat.v1.variables_initializer instead.\n",
      "\n"
     ]
    },
    {
     "name": "stderr",
     "output_type": "stream",
     "text": [
      "Using TensorFlow backend.\n"
     ]
    }
   ],
   "source": [
    "# Import libraries\n",
    "import keras\n",
    "import os\n",
    "import tensorflow as tf\n",
    "import tensorflow.keras as keras\n",
    "from keras.models import model_from_json\n",
    "from keras.utils import CustomObjectScope\n",
    "from keras.initializers import glorot_uniform\n",
    "\n",
    "# Load the model\n",
    "with open(os.path.join('keras_model', 'ann_model.json'), 'r') as fp:\n",
    "    loaded_model_json = fp.read()\n",
    "with CustomObjectScope({'GlorotUniform': glorot_uniform()}):\n",
    "        loaded_model = model_from_json(loaded_model_json)\n",
    "\n",
    "# Load the weights\n",
    "loaded_model.load_weights('keras_model/ann_model_weights.h5')"
   ]
  },
  {
   "cell_type": "markdown",
   "id": "bf02791a",
   "metadata": {},
   "source": [
    "#### Export the Keras model to the TensorFlow ProtoBuf format\n",
    "This will translate the Keras model to a format that SageMaker can read. The output will be saved in the 'export/Servo/1\" folder as \"saved_model.pb\"."
   ]
  },
  {
   "cell_type": "code",
   "execution_count": 5,
   "id": "eb0a6317",
   "metadata": {},
   "outputs": [
    {
     "name": "stdout",
     "output_type": "stream",
     "text": [
      "WARNING:tensorflow:From /home/ec2-user/anaconda3/envs/tensorflow_p36/cpu/lib/python3.6/site-packages/tensorflow_core/python/saved_model/signature_def_utils_impl.py:201: build_tensor_info (from tensorflow.python.saved_model.utils_impl) is deprecated and will be removed in a future version.\n",
      "Instructions for updating:\n",
      "This function will only be available through the v1 compatibility library as tf.compat.v1.saved_model.utils.build_tensor_info or tf.compat.v1.saved_model.build_tensor_info.\n",
      "INFO:tensorflow:No assets to save.\n",
      "INFO:tensorflow:No assets to write.\n",
      "INFO:tensorflow:SavedModel written to: export/Servo/1/saved_model.pb\n"
     ]
    },
    {
     "data": {
      "text/plain": [
       "b'export/Servo/1/saved_model.pb'"
      ]
     },
     "execution_count": 5,
     "metadata": {},
     "output_type": "execute_result"
    }
   ],
   "source": [
    "from tensorflow.python.saved_model import builder\n",
    "from tensorflow.python.saved_model.signature_def_utils import predict_signature_def\n",
    "from tensorflow.python.saved_model import tag_constants\n",
    "\n",
    "# Note: This directory structure will need to be followed \n",
    "model_version = '1'\n",
    "export_dir = 'export/Servo/' + model_version\n",
    "# Build the Protocol Buffer SavedModel at 'export_dir'\n",
    "builder = builder.SavedModelBuilder(export_dir)\n",
    "\n",
    "# Create prediction signature\n",
    "signature = predict_signature_def(\n",
    "    inputs={\"inputs\": loaded_model.input}, outputs={\"score\": loaded_model.output})\n",
    "\n",
    "session = tf.compat.v1.Session()\n",
    "init_op = tf.compat.v1.global_variables_initializer()\n",
    "session.run(init_op)\n",
    "\n",
    "# Save the meta graph and variables\n",
    "builder.add_meta_graph_and_variables(\n",
    "    sess=session, tags=[tag_constants.SERVING], \n",
    "    signature_def_map={\"serving_default\": signature})\n",
    "builder.save() "
   ]
  },
  {
   "cell_type": "markdown",
   "id": "61d55ecb",
   "metadata": {},
   "source": [
    "#### Compress and upload files to S3\n",
    "We are going to compress the file in the tar.gz format and then upload the file to our S3 bucket. The following <a href = \"https://baraaalbourghli.medium.com/deploy-your-keras-or-tensorflow-machine-learning-model-to-aws-using-amazon-sagemaker-how-to-2d88a6e779cc\">post</a> was very helpful."
   ]
  },
  {
   "cell_type": "code",
   "execution_count": 7,
   "id": "2bb115f4",
   "metadata": {},
   "outputs": [],
   "source": [
    "# Import libraries\n",
    "import tarfile\n",
    "import sagemaker\n",
    "\n",
    "# Compress the file\n",
    "with tarfile.open('model.tar.gz', mode='w:gz') as archive:\n",
    "    archive.add('export', recursive=True)\n",
    "\n",
    "# Upload the file to the S3\n",
    "sagemaker_session = sagemaker.Session()\n",
    "inputs = sagemaker_session.upload_data(path='model.tar.gz', key_prefix='model')"
   ]
  },
  {
   "cell_type": "markdown",
   "id": "3c7d9e99",
   "metadata": {},
   "source": [
    "#### Deploy the model \n",
    "Prepare for the deployment."
   ]
  },
  {
   "cell_type": "code",
   "execution_count": 8,
   "id": "2f8345c7",
   "metadata": {},
   "outputs": [
    {
     "name": "stderr",
     "output_type": "stream",
     "text": [
      "The class sagemaker.tensorflow.serving.Model has been renamed in sagemaker>=2.\n",
      "See: https://sagemaker.readthedocs.io/en/stable/v2.html for details.\n"
     ]
    }
   ],
   "source": [
    "# Import library\n",
    "from sagemaker.tensorflow.serving import Model\n",
    "\n",
    "# Instance Type\n",
    "instance_type = 'ml.c5.xlarge' \n",
    "\n",
    "# Model\n",
    "sm_model = Model(model_data=inputs, \n",
    "                 framework_version=tf_framework_version,\n",
    "                 role=role)"
   ]
  },
  {
   "cell_type": "markdown",
   "id": "7a539135",
   "metadata": {},
   "source": [
    "Implement the deployment."
   ]
  },
  {
   "cell_type": "code",
   "execution_count": 9,
   "id": "d79718bf",
   "metadata": {
    "scrolled": true
   },
   "outputs": [
    {
     "name": "stderr",
     "output_type": "stream",
     "text": [
      "update_endpoint is a no-op in sagemaker>=2.\n",
      "See: https://sagemaker.readthedocs.io/en/stable/v2.html for details.\n"
     ]
    },
    {
     "name": "stdout",
     "output_type": "stream",
     "text": [
      "----!/Model is deployed\n",
      "CPU times: user 160 ms, sys: 13.3 ms, total: 174 ms\n",
      "Wall time: 2min 1s\n"
     ]
    }
   ],
   "source": [
    "%%time\n",
    "uncompiled_predictor = sm_model.deploy(initial_instance_count=1, instance_type=instance_type) \n",
    "print('/Model is deployed')"
   ]
  },
  {
   "attachments": {},
   "cell_type": "markdown",
   "id": "013cba5d",
   "metadata": {},
   "source": [
    "The model is now deployed!\n",
    "\n",
    "Let's check the endpoint to double-check. Go to SageMaker Dashboard -> expand inference -> Endpoints. If you see something like the following, then it means that your model has been successfully deployed.\n",
    "<img src =\"https://github.com/youngdataspace/Build-and-Deploy-a-Spam-Detector-Model-on-AWS/blob/main/image_endpoint.png?raw=true\">\n",
    "\n",
    "#### Delete the endpoint\n",
    "Don't forget to delete the endpoint by running the following code. Otherwise, you may incur charges. "
   ]
  },
  {
   "cell_type": "code",
   "execution_count": 10,
   "id": "e23948f3",
   "metadata": {
    "scrolled": true
   },
   "outputs": [
    {
     "name": "stderr",
     "output_type": "stream",
     "text": [
      "The endpoint attribute has been renamed in sagemaker>=2.\n",
      "See: https://sagemaker.readthedocs.io/en/stable/v2.html for details.\n"
     ]
    },
    {
     "ename": "ClientError",
     "evalue": "An error occurred (ValidationException) when calling the DeleteEndpoint operation: Could not find endpoint \"arn:aws:sagemaker:us-west-1:345244648414:endpoint/tensorflow-inference-2022-04-20-23-20-27-076\".",
     "output_type": "error",
     "traceback": [
      "\u001b[0;31m---------------------------------------------------------------------------\u001b[0m",
      "\u001b[0;31mClientError\u001b[0m                               Traceback (most recent call last)",
      "\u001b[0;32m<ipython-input-10-ed9611731603>\u001b[0m in \u001b[0;36m<module>\u001b[0;34m\u001b[0m\n\u001b[0;32m----> 1\u001b[0;31m \u001b[0msagemaker_session\u001b[0m\u001b[0;34m.\u001b[0m\u001b[0mdelete_endpoint\u001b[0m\u001b[0;34m(\u001b[0m\u001b[0muncompiled_predictor\u001b[0m\u001b[0;34m.\u001b[0m\u001b[0mendpoint\u001b[0m\u001b[0;34m)\u001b[0m\u001b[0;34m\u001b[0m\u001b[0;34m\u001b[0m\u001b[0m\n\u001b[0m",
      "\u001b[0;32m~/anaconda3/envs/tensorflow_p36/lib/python3.6/site-packages/sagemaker/session.py\u001b[0m in \u001b[0;36mdelete_endpoint\u001b[0;34m(self, endpoint_name)\u001b[0m\n\u001b[1;32m   3083\u001b[0m         \"\"\"\n\u001b[1;32m   3084\u001b[0m         \u001b[0mLOGGER\u001b[0m\u001b[0;34m.\u001b[0m\u001b[0minfo\u001b[0m\u001b[0;34m(\u001b[0m\u001b[0;34m\"Deleting endpoint with name: %s\"\u001b[0m\u001b[0;34m,\u001b[0m \u001b[0mendpoint_name\u001b[0m\u001b[0;34m)\u001b[0m\u001b[0;34m\u001b[0m\u001b[0;34m\u001b[0m\u001b[0m\n\u001b[0;32m-> 3085\u001b[0;31m         \u001b[0mself\u001b[0m\u001b[0;34m.\u001b[0m\u001b[0msagemaker_client\u001b[0m\u001b[0;34m.\u001b[0m\u001b[0mdelete_endpoint\u001b[0m\u001b[0;34m(\u001b[0m\u001b[0mEndpointName\u001b[0m\u001b[0;34m=\u001b[0m\u001b[0mendpoint_name\u001b[0m\u001b[0;34m)\u001b[0m\u001b[0;34m\u001b[0m\u001b[0;34m\u001b[0m\u001b[0m\n\u001b[0m\u001b[1;32m   3086\u001b[0m \u001b[0;34m\u001b[0m\u001b[0m\n\u001b[1;32m   3087\u001b[0m     \u001b[0;32mdef\u001b[0m \u001b[0mdelete_endpoint_config\u001b[0m\u001b[0;34m(\u001b[0m\u001b[0mself\u001b[0m\u001b[0;34m,\u001b[0m \u001b[0mendpoint_config_name\u001b[0m\u001b[0;34m)\u001b[0m\u001b[0;34m:\u001b[0m\u001b[0;34m\u001b[0m\u001b[0;34m\u001b[0m\u001b[0m\n",
      "\u001b[0;32m~/anaconda3/envs/tensorflow_p36/lib/python3.6/site-packages/botocore/client.py\u001b[0m in \u001b[0;36m_api_call\u001b[0;34m(self, *args, **kwargs)\u001b[0m\n\u001b[1;32m    399\u001b[0m                     \"%s() only accepts keyword arguments.\" % py_operation_name)\n\u001b[1;32m    400\u001b[0m             \u001b[0;31m# The \"self\" in this scope is referring to the BaseClient.\u001b[0m\u001b[0;34m\u001b[0m\u001b[0;34m\u001b[0m\u001b[0;34m\u001b[0m\u001b[0m\n\u001b[0;32m--> 401\u001b[0;31m             \u001b[0;32mreturn\u001b[0m \u001b[0mself\u001b[0m\u001b[0;34m.\u001b[0m\u001b[0m_make_api_call\u001b[0m\u001b[0;34m(\u001b[0m\u001b[0moperation_name\u001b[0m\u001b[0;34m,\u001b[0m \u001b[0mkwargs\u001b[0m\u001b[0;34m)\u001b[0m\u001b[0;34m\u001b[0m\u001b[0;34m\u001b[0m\u001b[0m\n\u001b[0m\u001b[1;32m    402\u001b[0m \u001b[0;34m\u001b[0m\u001b[0m\n\u001b[1;32m    403\u001b[0m         \u001b[0m_api_call\u001b[0m\u001b[0;34m.\u001b[0m\u001b[0m__name__\u001b[0m \u001b[0;34m=\u001b[0m \u001b[0mstr\u001b[0m\u001b[0;34m(\u001b[0m\u001b[0mpy_operation_name\u001b[0m\u001b[0;34m)\u001b[0m\u001b[0;34m\u001b[0m\u001b[0;34m\u001b[0m\u001b[0m\n",
      "\u001b[0;32m~/anaconda3/envs/tensorflow_p36/lib/python3.6/site-packages/botocore/client.py\u001b[0m in \u001b[0;36m_make_api_call\u001b[0;34m(self, operation_name, api_params)\u001b[0m\n\u001b[1;32m    729\u001b[0m             \u001b[0merror_code\u001b[0m \u001b[0;34m=\u001b[0m \u001b[0mparsed_response\u001b[0m\u001b[0;34m.\u001b[0m\u001b[0mget\u001b[0m\u001b[0;34m(\u001b[0m\u001b[0;34m\"Error\"\u001b[0m\u001b[0;34m,\u001b[0m \u001b[0;34m{\u001b[0m\u001b[0;34m}\u001b[0m\u001b[0;34m)\u001b[0m\u001b[0;34m.\u001b[0m\u001b[0mget\u001b[0m\u001b[0;34m(\u001b[0m\u001b[0;34m\"Code\"\u001b[0m\u001b[0;34m)\u001b[0m\u001b[0;34m\u001b[0m\u001b[0;34m\u001b[0m\u001b[0m\n\u001b[1;32m    730\u001b[0m             \u001b[0merror_class\u001b[0m \u001b[0;34m=\u001b[0m \u001b[0mself\u001b[0m\u001b[0;34m.\u001b[0m\u001b[0mexceptions\u001b[0m\u001b[0;34m.\u001b[0m\u001b[0mfrom_code\u001b[0m\u001b[0;34m(\u001b[0m\u001b[0merror_code\u001b[0m\u001b[0;34m)\u001b[0m\u001b[0;34m\u001b[0m\u001b[0;34m\u001b[0m\u001b[0m\n\u001b[0;32m--> 731\u001b[0;31m             \u001b[0;32mraise\u001b[0m \u001b[0merror_class\u001b[0m\u001b[0;34m(\u001b[0m\u001b[0mparsed_response\u001b[0m\u001b[0;34m,\u001b[0m \u001b[0moperation_name\u001b[0m\u001b[0;34m)\u001b[0m\u001b[0;34m\u001b[0m\u001b[0;34m\u001b[0m\u001b[0m\n\u001b[0m\u001b[1;32m    732\u001b[0m         \u001b[0;32melse\u001b[0m\u001b[0;34m:\u001b[0m\u001b[0;34m\u001b[0m\u001b[0;34m\u001b[0m\u001b[0m\n\u001b[1;32m    733\u001b[0m             \u001b[0;32mreturn\u001b[0m \u001b[0mparsed_response\u001b[0m\u001b[0;34m\u001b[0m\u001b[0;34m\u001b[0m\u001b[0m\n",
      "\u001b[0;31mClientError\u001b[0m: An error occurred (ValidationException) when calling the DeleteEndpoint operation: Could not find endpoint \"arn:aws:sagemaker:us-west-1:345244648414:endpoint/tensorflow-inference-2022-04-20-23-20-27-076\"."
     ]
    }
   ],
   "source": [
    "sagemaker_session.delete_endpoint(uncompiled_predictor.endpoint)"
   ]
  },
  {
   "cell_type": "markdown",
   "id": "eabb76bd",
   "metadata": {},
   "source": [
    "## Conclusion\n",
    "Hopefully, this post helped you understand how to train and evaluate an ANN model and deploy it on AWS using SageMaker. If you have any comments or suggestions, email me at y.s.yoon@berkeley.edu.\n",
    "I am planning on updating this post to include (1) the demonstration of calling the API and (2) monitoring the model."
   ]
  }
 ],
 "metadata": {
  "kernelspec": {
   "display_name": "conda_tensorflow_p36",
   "language": "python",
   "name": "conda_tensorflow_p36"
  },
  "language_info": {
   "codemirror_mode": {
    "name": "ipython",
    "version": 3
   },
   "file_extension": ".py",
   "mimetype": "text/x-python",
   "name": "python",
   "nbconvert_exporter": "python",
   "pygments_lexer": "ipython3",
   "version": "3.6.13"
  }
 },
 "nbformat": 4,
 "nbformat_minor": 5
}
